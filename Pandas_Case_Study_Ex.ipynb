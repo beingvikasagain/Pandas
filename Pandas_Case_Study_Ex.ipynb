{
 "cells": [
  {
   "cell_type": "code",
   "execution_count": 1,
   "id": "standard-municipality",
   "metadata": {},
   "outputs": [],
   "source": [
    "# imprort required package(pandas)\n",
    "\n",
    "import pandas as pd\n",
    "import numpy as np"
   ]
  },
  {
   "cell_type": "code",
   "execution_count": 7,
   "id": "fatty-saskatchewan",
   "metadata": {},
   "outputs": [
    {
     "data": {
      "text/html": [
       "<div>\n",
       "<style scoped>\n",
       "    .dataframe tbody tr th:only-of-type {\n",
       "        vertical-align: middle;\n",
       "    }\n",
       "\n",
       "    .dataframe tbody tr th {\n",
       "        vertical-align: top;\n",
       "    }\n",
       "\n",
       "    .dataframe thead th {\n",
       "        text-align: right;\n",
       "    }\n",
       "</style>\n",
       "<table border=\"1\" class=\"dataframe\">\n",
       "  <thead>\n",
       "    <tr style=\"text-align: right;\">\n",
       "      <th></th>\n",
       "      <th>EMPLOYEE_ID</th>\n",
       "      <th>FIRST_NAME</th>\n",
       "      <th>LAST_NAME</th>\n",
       "      <th>EMAIL</th>\n",
       "      <th>PHONE_NUMBER</th>\n",
       "      <th>HIRE_DATE</th>\n",
       "      <th>JOB_ID</th>\n",
       "      <th>SALARY</th>\n",
       "      <th>COMMISSION_PCT</th>\n",
       "      <th>MANAGER_ID</th>\n",
       "      <th>DEPARTMENT_ID</th>\n",
       "    </tr>\n",
       "  </thead>\n",
       "  <tbody>\n",
       "    <tr>\n",
       "      <th>0</th>\n",
       "      <td>198</td>\n",
       "      <td>Donald</td>\n",
       "      <td>OConnell</td>\n",
       "      <td>NaN</td>\n",
       "      <td>650.507.9833</td>\n",
       "      <td>21-Jun-07</td>\n",
       "      <td>SH_CLERK</td>\n",
       "      <td>2600</td>\n",
       "      <td>-</td>\n",
       "      <td>124</td>\n",
       "      <td>50</td>\n",
       "    </tr>\n",
       "    <tr>\n",
       "      <th>1</th>\n",
       "      <td>199</td>\n",
       "      <td>Douglas</td>\n",
       "      <td>Grant</td>\n",
       "      <td>NaN</td>\n",
       "      <td>650.507.9844</td>\n",
       "      <td>13-Jan-08</td>\n",
       "      <td>SH_CLERK</td>\n",
       "      <td>2600</td>\n",
       "      <td>-</td>\n",
       "      <td>124</td>\n",
       "      <td>50</td>\n",
       "    </tr>\n",
       "    <tr>\n",
       "      <th>2</th>\n",
       "      <td>200</td>\n",
       "      <td>Jennifer</td>\n",
       "      <td>Whalen</td>\n",
       "      <td>NaN</td>\n",
       "      <td>515.123.4444</td>\n",
       "      <td>17-Sep-03</td>\n",
       "      <td>AD_ASST</td>\n",
       "      <td>4400</td>\n",
       "      <td>-</td>\n",
       "      <td>101</td>\n",
       "      <td>10</td>\n",
       "    </tr>\n",
       "    <tr>\n",
       "      <th>3</th>\n",
       "      <td>201</td>\n",
       "      <td>Michael</td>\n",
       "      <td>Hartstein</td>\n",
       "      <td>NaN</td>\n",
       "      <td>515.123.5555</td>\n",
       "      <td>17-Feb-04</td>\n",
       "      <td>MK_MAN</td>\n",
       "      <td>13000</td>\n",
       "      <td>-</td>\n",
       "      <td>100</td>\n",
       "      <td>20</td>\n",
       "    </tr>\n",
       "    <tr>\n",
       "      <th>4</th>\n",
       "      <td>202</td>\n",
       "      <td>Pat</td>\n",
       "      <td>Fay</td>\n",
       "      <td>NaN</td>\n",
       "      <td>603.123.6666</td>\n",
       "      <td>17-Aug-05</td>\n",
       "      <td>MK_REP</td>\n",
       "      <td>6000</td>\n",
       "      <td>-</td>\n",
       "      <td>201</td>\n",
       "      <td>20</td>\n",
       "    </tr>\n",
       "  </tbody>\n",
       "</table>\n",
       "</div>"
      ],
      "text/plain": [
       "   EMPLOYEE_ID FIRST_NAME  LAST_NAME EMAIL  PHONE_NUMBER  HIRE_DATE    JOB_ID  \\\n",
       "0          198     Donald   OConnell   NaN  650.507.9833  21-Jun-07  SH_CLERK   \n",
       "1          199    Douglas      Grant   NaN  650.507.9844  13-Jan-08  SH_CLERK   \n",
       "2          200   Jennifer     Whalen   NaN  515.123.4444  17-Sep-03   AD_ASST   \n",
       "3          201    Michael  Hartstein   NaN  515.123.5555  17-Feb-04    MK_MAN   \n",
       "4          202        Pat        Fay   NaN  603.123.6666  17-Aug-05    MK_REP   \n",
       "\n",
       "   SALARY COMMISSION_PCT MANAGER_ID  DEPARTMENT_ID  \n",
       "0    2600             -         124             50  \n",
       "1    2600             -         124             50  \n",
       "2    4400             -         101             10  \n",
       "3   13000             -         100             20  \n",
       "4    6000             -         201             20  "
      ]
     },
     "execution_count": 7,
     "metadata": {},
     "output_type": "execute_result"
    }
   ],
   "source": [
    "# import Employees Data\n",
    "employees = pd.read_csv('C:\\\\Users\\\\Vikas\\\\Downloads\\\\Pandas_\\\\Python-Pandas-Case-Study\\\\Pandas Case Study\\\\employees.csv')\n",
    "employees.head()"
   ]
  },
  {
   "cell_type": "markdown",
   "id": "anonymous-times",
   "metadata": {},
   "source": [
    "# Understand the data"
   ]
  },
  {
   "cell_type": "code",
   "execution_count": 9,
   "id": "bigger-cuisine",
   "metadata": {},
   "outputs": [
    {
     "data": {
      "text/plain": [
       "Index(['EMPLOYEE_ID', 'FIRST_NAME', 'LAST_NAME', 'EMAIL', 'PHONE_NUMBER',\n",
       "       'HIRE_DATE', 'JOB_ID', 'SALARY', 'COMMISSION_PCT', 'MANAGER_ID',\n",
       "       'DEPARTMENT_ID'],\n",
       "      dtype='object')"
      ]
     },
     "execution_count": 9,
     "metadata": {},
     "output_type": "execute_result"
    }
   ],
   "source": [
    "employees.columns\n"
   ]
  },
  {
   "cell_type": "code",
   "execution_count": 10,
   "id": "golden-manhattan",
   "metadata": {},
   "outputs": [
    {
     "data": {
      "text/plain": [
       "<bound method NDFrame.describe of     EMPLOYEE_ID   FIRST_NAME    LAST_NAME     EMAIL  PHONE_NUMBER  HIRE_DATE  \\\n",
       "0           198       Donald     OConnell       NaN  650.507.9833  21-Jun-07   \n",
       "1           199      Douglas        Grant       NaN  650.507.9844  13-Jan-08   \n",
       "2           200     Jennifer       Whalen       NaN  515.123.4444  17-Sep-03   \n",
       "3           201      Michael    Hartstein       NaN  515.123.5555  17-Feb-04   \n",
       "4           202          Pat          Fay       NaN  603.123.6666  17-Aug-05   \n",
       "5           203        Susan       Mavris       NaN  515.123.7777  07-Jun-02   \n",
       "6           204      Hermann         Baer       NaN  515.123.8888  07-Jun-02   \n",
       "7           205      Shelley      Higgins       NaN  515.123.8080  07-Jun-02   \n",
       "8           206      William        Gietz    WGIETZ  515.123.8181  07-Jun-02   \n",
       "9           100       Steven         King     SKING  515.123.4567  17-Jun-03   \n",
       "10          101        Neena      Kochhar  NKOCHHAR  515.123.4568  21-Sep-05   \n",
       "11          102          Lex      De Haan   LDEHAAN  515.123.4569  13-Jan-01   \n",
       "12          103    Alexander       Hunold   AHUNOLD  590.423.4567  03-Jan-06   \n",
       "13          104        Bruce        Ernst    BERNST  590.423.4568  21-May-07   \n",
       "14          105        David       Austin   DAUSTIN  590.423.4569  25-Jun-05   \n",
       "15          106        Valli    Pataballa  VPATABAL  590.423.4560  05-Feb-06   \n",
       "16          107        Diana      Lorentz  DLORENTZ  590.423.5567  07-Feb-07   \n",
       "17          108        Nancy    Greenberg  NGREENBE  515.124.4569  17-Aug-02   \n",
       "18          109       Daniel       Faviet   DFAVIET  515.124.4169  16-Aug-02   \n",
       "19          110         John         Chen     JCHEN  515.124.4269  28-Sep-05   \n",
       "20          111       Ismael      Sciarra  ISCIARRA  515.124.4369  30-Sep-05   \n",
       "21          112  Jose Manuel        Urman   JMURMAN  515.124.4469  07-Mar-06   \n",
       "22          113         Luis         Popp     LPOPP  515.124.4567  07-Dec-07   \n",
       "23          114          Den     Raphaely  DRAPHEAL  515.127.4561  07-Dec-02   \n",
       "24          115    Alexander         Khoo     AKHOO  515.127.4562  18-May-03   \n",
       "25          116       Shelli        Baida    SBAIDA  515.127.4563  24-Dec-05   \n",
       "26          117        Sigal       Tobias   STOBIAS  515.127.4564  24-Jul-05   \n",
       "27          118          Guy       Himuro   GHIMURO  515.127.4565  15-Nov-06   \n",
       "28          119        Karen   Colmenares  KCOLMENA  515.127.4566  10-Aug-07   \n",
       "29          120      Matthew        Weiss    MWEISS  650.123.1234  18-Jul-04   \n",
       "30          121         Adam        Fripp    AFRIPP  650.123.2234  10-Apr-05   \n",
       "31          122        Payam     Kaufling  PKAUFLIN  650.123.3234  01-May-03   \n",
       "32          123       Shanta      Vollman  SVOLLMAN  650.123.4234  10-Oct-05   \n",
       "33          124        Kevin      Mourgos  KMOURGOS  650.123.5234  16-Nov-07   \n",
       "34          125        Julia        Nayer    JNAYER  650.124.1214  16-Jul-05   \n",
       "35          126        Irene  Mikkilineni  IMIKKILI  650.124.1224  28-Sep-06   \n",
       "36          127        James       Landry   JLANDRY  650.124.1334  14-Jan-07   \n",
       "37          128       Steven       Markle   SMARKLE  650.124.1434  08-Mar-08   \n",
       "38          129        Laura       Bissot   LBISSOT  650.124.5234  20-Aug-05   \n",
       "39          130        Mozhe     Atkinson  MATKINSO  650.124.6234  30-Oct-05   \n",
       "40          131        James       Marlow   JAMRLOW  650.124.7234  16-Feb-05   \n",
       "41          132           TJ        Olson   TJOLSON  650.124.8234  10-Apr-07   \n",
       "42          133        Jason       Mallin   JMALLIN  650.127.1934  14-Jun-04   \n",
       "43          134      Michael       Rogers   MROGERS  650.127.1834  26-Aug-06   \n",
       "44          135           Ki          Gee      KGEE  650.127.1734  12-Dec-07   \n",
       "45          136        Hazel   Philtanker  HPHILTAN  650.127.1634  06-Feb-08   \n",
       "46          137       Renske       Ladwig   RLADWIG  650.121.1234  14-Jul-03   \n",
       "47          138      Stephen       Stiles   SSTILES  650.121.2034  26-Oct-05   \n",
       "48          139         John          Seo      JSEO  650.121.2019  12-Feb-06   \n",
       "49          140       Joshua        Patel    JPATEL  650.121.1834  06-Apr-06   \n",
       "\n",
       "        JOB_ID  SALARY COMMISSION_PCT MANAGER_ID  DEPARTMENT_ID  \n",
       "0     SH_CLERK    2600             -         124             50  \n",
       "1     SH_CLERK    2600             -         124             50  \n",
       "2      AD_ASST    4400             -         101             10  \n",
       "3       MK_MAN   13000             -         100             20  \n",
       "4       MK_REP    6000             -         201             20  \n",
       "5       HR_REP    6500             -         101             40  \n",
       "6       PR_REP   10000             -         101             70  \n",
       "7       AC_MGR   12008             -         101            110  \n",
       "8   AC_ACCOUNT    8300             -         205            110  \n",
       "9      AD_PRES   24000             -          -              90  \n",
       "10       AD_VP   17000             -         100             90  \n",
       "11       AD_VP   17000             -         100             90  \n",
       "12     IT_PROG    9000             -         102             60  \n",
       "13     IT_PROG    6000             -         103             60  \n",
       "14     IT_PROG    4800             -         103             60  \n",
       "15     IT_PROG    4800             -         103             60  \n",
       "16     IT_PROG    4200             -         103             60  \n",
       "17      FI_MGR   12008             -         101            100  \n",
       "18  FI_ACCOUNT    9000             -         108            100  \n",
       "19  FI_ACCOUNT    8200             -         108            100  \n",
       "20  FI_ACCOUNT    7700             -         108            100  \n",
       "21  FI_ACCOUNT    7800             -         108            100  \n",
       "22  FI_ACCOUNT    6900             -         108            100  \n",
       "23      PU_MAN   11000             -         100             30  \n",
       "24    PU_CLERK    3100             -         114             30  \n",
       "25    PU_CLERK    2900             -         114             30  \n",
       "26    PU_CLERK    2800             -         114             30  \n",
       "27    PU_CLERK    2600             -         114             30  \n",
       "28    PU_CLERK    2500             -         114             30  \n",
       "29      ST_MAN    8000             -         100             50  \n",
       "30      ST_MAN    8200             -         100             50  \n",
       "31      ST_MAN    7900             -         100             50  \n",
       "32      ST_MAN    6500             -         100             50  \n",
       "33      ST_MAN    5800             -         100             50  \n",
       "34    ST_CLERK    3200             -         120             50  \n",
       "35    ST_CLERK    2700             -         120             50  \n",
       "36    ST_CLERK    2400             -         120             50  \n",
       "37    ST_CLERK    2200             -         120             50  \n",
       "38    ST_CLERK    3300             -         121             50  \n",
       "39    ST_CLERK    2800             -         121             50  \n",
       "40    ST_CLERK    2500             -         121             50  \n",
       "41    ST_CLERK    2100             -         121             50  \n",
       "42    ST_CLERK    3300             -         122             50  \n",
       "43    ST_CLERK    2900             -         122             50  \n",
       "44    ST_CLERK    2400             -         122             50  \n",
       "45    ST_CLERK    2200             -         122             50  \n",
       "46    ST_CLERK    3600             -         123             50  \n",
       "47    ST_CLERK    3200             -         123             50  \n",
       "48    ST_CLERK    2700             -         123             50  \n",
       "49    ST_CLERK    2500             -         123             50  >"
      ]
     },
     "execution_count": 10,
     "metadata": {},
     "output_type": "execute_result"
    }
   ],
   "source": [
    "employees.describe"
   ]
  },
  {
   "cell_type": "code",
   "execution_count": 14,
   "id": "seasonal-parallel",
   "metadata": {},
   "outputs": [
    {
     "name": "stdout",
     "output_type": "stream",
     "text": [
      "<class 'pandas.core.frame.DataFrame'>\n",
      "RangeIndex: 50 entries, 0 to 49\n",
      "Data columns (total 11 columns):\n",
      " #   Column          Non-Null Count  Dtype \n",
      "---  ------          --------------  ----- \n",
      " 0   EMPLOYEE_ID     50 non-null     int64 \n",
      " 1   FIRST_NAME      50 non-null     object\n",
      " 2   LAST_NAME       50 non-null     object\n",
      " 3   EMAIL           42 non-null     object\n",
      " 4   PHONE_NUMBER    50 non-null     object\n",
      " 5   HIRE_DATE       50 non-null     object\n",
      " 6   JOB_ID          50 non-null     object\n",
      " 7   SALARY          50 non-null     int64 \n",
      " 8   COMMISSION_PCT  50 non-null     object\n",
      " 9   MANAGER_ID      50 non-null     object\n",
      " 10  DEPARTMENT_ID   50 non-null     int64 \n",
      "dtypes: int64(3), object(8)\n",
      "memory usage: 4.4+ KB\n"
     ]
    }
   ],
   "source": [
    "employees.info()"
   ]
  },
  {
   "cell_type": "code",
   "execution_count": 12,
   "id": "equipped-illness",
   "metadata": {},
   "outputs": [
    {
     "data": {
      "text/plain": [
       "(50, 11)"
      ]
     },
     "execution_count": 12,
     "metadata": {},
     "output_type": "execute_result"
    }
   ],
   "source": [
    "employees.shape"
   ]
  },
  {
   "cell_type": "code",
   "execution_count": 13,
   "id": "serious-underwear",
   "metadata": {},
   "outputs": [
    {
     "data": {
      "text/plain": [
       "RangeIndex(start=0, stop=50, step=1)"
      ]
     },
     "execution_count": 13,
     "metadata": {},
     "output_type": "execute_result"
    }
   ],
   "source": [
    "employees.index"
   ]
  },
  {
   "cell_type": "code",
   "execution_count": 18,
   "id": "public-conspiracy",
   "metadata": {},
   "outputs": [
    {
     "data": {
      "text/plain": [
       "2"
      ]
     },
     "execution_count": 18,
     "metadata": {},
     "output_type": "execute_result"
    }
   ],
   "source": [
    "employees.ndim"
   ]
  },
  {
   "cell_type": "markdown",
   "id": "hired-player",
   "metadata": {},
   "source": [
    "# Checking for missing values"
   ]
  },
  {
   "cell_type": "code",
   "execution_count": 19,
   "id": "charming-traffic",
   "metadata": {},
   "outputs": [
    {
     "data": {
      "text/plain": [
       "EMPLOYEE_ID       0\n",
       "FIRST_NAME        0\n",
       "LAST_NAME         0\n",
       "EMAIL             8\n",
       "PHONE_NUMBER      0\n",
       "HIRE_DATE         0\n",
       "JOB_ID            0\n",
       "SALARY            0\n",
       "COMMISSION_PCT    0\n",
       "MANAGER_ID        0\n",
       "DEPARTMENT_ID     0\n",
       "dtype: int64"
      ]
     },
     "execution_count": 19,
     "metadata": {},
     "output_type": "execute_result"
    }
   ],
   "source": [
    "employees.isna().sum()"
   ]
  },
  {
   "cell_type": "code",
   "execution_count": 30,
   "id": "victorian-mounting",
   "metadata": {},
   "outputs": [
    {
     "data": {
      "text/html": [
       "<div>\n",
       "<style scoped>\n",
       "    .dataframe tbody tr th:only-of-type {\n",
       "        vertical-align: middle;\n",
       "    }\n",
       "\n",
       "    .dataframe tbody tr th {\n",
       "        vertical-align: top;\n",
       "    }\n",
       "\n",
       "    .dataframe thead th {\n",
       "        text-align: right;\n",
       "    }\n",
       "</style>\n",
       "<table border=\"1\" class=\"dataframe\">\n",
       "  <thead>\n",
       "    <tr style=\"text-align: right;\">\n",
       "      <th></th>\n",
       "      <th>EMPLOYEE_ID</th>\n",
       "      <th>FIRST_NAME</th>\n",
       "      <th>LAST_NAME</th>\n",
       "      <th>EMAIL</th>\n",
       "      <th>PHONE_NUMBER</th>\n",
       "      <th>HIRE_DATE</th>\n",
       "      <th>JOB_ID</th>\n",
       "      <th>SALARY</th>\n",
       "      <th>COMMISSION_PCT</th>\n",
       "      <th>MANAGER_ID</th>\n",
       "      <th>DEPARTMENT_ID</th>\n",
       "    </tr>\n",
       "  </thead>\n",
       "  <tbody>\n",
       "    <tr>\n",
       "      <th>0</th>\n",
       "      <td>198</td>\n",
       "      <td>Donald</td>\n",
       "      <td>OConnell</td>\n",
       "      <td>NaN</td>\n",
       "      <td>650.507.9833</td>\n",
       "      <td>21-Jun-07</td>\n",
       "      <td>SH_CLERK</td>\n",
       "      <td>2600</td>\n",
       "      <td>-</td>\n",
       "      <td>124</td>\n",
       "      <td>50</td>\n",
       "    </tr>\n",
       "    <tr>\n",
       "      <th>1</th>\n",
       "      <td>199</td>\n",
       "      <td>Douglas</td>\n",
       "      <td>Grant</td>\n",
       "      <td>NaN</td>\n",
       "      <td>650.507.9844</td>\n",
       "      <td>13-Jan-08</td>\n",
       "      <td>SH_CLERK</td>\n",
       "      <td>2600</td>\n",
       "      <td>-</td>\n",
       "      <td>124</td>\n",
       "      <td>50</td>\n",
       "    </tr>\n",
       "    <tr>\n",
       "      <th>2</th>\n",
       "      <td>200</td>\n",
       "      <td>Jennifer</td>\n",
       "      <td>Whalen</td>\n",
       "      <td>NaN</td>\n",
       "      <td>515.123.4444</td>\n",
       "      <td>17-Sep-03</td>\n",
       "      <td>AD_ASST</td>\n",
       "      <td>4400</td>\n",
       "      <td>-</td>\n",
       "      <td>101</td>\n",
       "      <td>10</td>\n",
       "    </tr>\n",
       "    <tr>\n",
       "      <th>3</th>\n",
       "      <td>201</td>\n",
       "      <td>Michael</td>\n",
       "      <td>Hartstein</td>\n",
       "      <td>NaN</td>\n",
       "      <td>515.123.5555</td>\n",
       "      <td>17-Feb-04</td>\n",
       "      <td>MK_MAN</td>\n",
       "      <td>13000</td>\n",
       "      <td>-</td>\n",
       "      <td>100</td>\n",
       "      <td>20</td>\n",
       "    </tr>\n",
       "    <tr>\n",
       "      <th>4</th>\n",
       "      <td>202</td>\n",
       "      <td>Pat</td>\n",
       "      <td>Fay</td>\n",
       "      <td>NaN</td>\n",
       "      <td>603.123.6666</td>\n",
       "      <td>17-Aug-05</td>\n",
       "      <td>MK_REP</td>\n",
       "      <td>6000</td>\n",
       "      <td>-</td>\n",
       "      <td>201</td>\n",
       "      <td>20</td>\n",
       "    </tr>\n",
       "  </tbody>\n",
       "</table>\n",
       "</div>"
      ],
      "text/plain": [
       "   EMPLOYEE_ID FIRST_NAME  LAST_NAME EMAIL  PHONE_NUMBER  HIRE_DATE    JOB_ID  \\\n",
       "0          198     Donald   OConnell   NaN  650.507.9833  21-Jun-07  SH_CLERK   \n",
       "1          199    Douglas      Grant   NaN  650.507.9844  13-Jan-08  SH_CLERK   \n",
       "2          200   Jennifer     Whalen   NaN  515.123.4444  17-Sep-03   AD_ASST   \n",
       "3          201    Michael  Hartstein   NaN  515.123.5555  17-Feb-04    MK_MAN   \n",
       "4          202        Pat        Fay   NaN  603.123.6666  17-Aug-05    MK_REP   \n",
       "\n",
       "   SALARY COMMISSION_PCT MANAGER_ID  DEPARTMENT_ID  \n",
       "0    2600             -         124             50  \n",
       "1    2600             -         124             50  \n",
       "2    4400             -         101             10  \n",
       "3   13000             -         100             20  \n",
       "4    6000             -         201             20  "
      ]
     },
     "metadata": {},
     "output_type": "display_data"
    },
    {
     "data": {
      "text/html": [
       "<div>\n",
       "<style scoped>\n",
       "    .dataframe tbody tr th:only-of-type {\n",
       "        vertical-align: middle;\n",
       "    }\n",
       "\n",
       "    .dataframe tbody tr th {\n",
       "        vertical-align: top;\n",
       "    }\n",
       "\n",
       "    .dataframe thead th {\n",
       "        text-align: right;\n",
       "    }\n",
       "</style>\n",
       "<table border=\"1\" class=\"dataframe\">\n",
       "  <thead>\n",
       "    <tr style=\"text-align: right;\">\n",
       "      <th></th>\n",
       "      <th>EMPLOYEE_ID</th>\n",
       "      <th>FIRST_NAME</th>\n",
       "      <th>LAST_NAME</th>\n",
       "      <th>EMAIL</th>\n",
       "      <th>PHONE_NUMBER</th>\n",
       "      <th>HIRE_DATE</th>\n",
       "      <th>JOB_ID</th>\n",
       "      <th>SALARY</th>\n",
       "      <th>COMMISSION_PCT</th>\n",
       "      <th>MANAGER_ID</th>\n",
       "      <th>DEPARTMENT_ID</th>\n",
       "    </tr>\n",
       "  </thead>\n",
       "  <tbody>\n",
       "  </tbody>\n",
       "</table>\n",
       "</div>"
      ],
      "text/plain": [
       "Empty DataFrame\n",
       "Columns: [EMPLOYEE_ID, FIRST_NAME, LAST_NAME, EMAIL, PHONE_NUMBER, HIRE_DATE, JOB_ID, SALARY, COMMISSION_PCT, MANAGER_ID, DEPARTMENT_ID]\n",
       "Index: []"
      ]
     },
     "metadata": {},
     "output_type": "display_data"
    }
   ],
   "source": [
    "# Check unique and duplicate values\n",
    "display(employees[employees.duplicated()==False].head())\n",
    "display(employees[employees.duplicated()==True])"
   ]
  },
  {
   "cell_type": "code",
   "execution_count": 40,
   "id": "adopted-belize",
   "metadata": {},
   "outputs": [
    {
     "data": {
      "text/html": [
       "<div>\n",
       "<style scoped>\n",
       "    .dataframe tbody tr th:only-of-type {\n",
       "        vertical-align: middle;\n",
       "    }\n",
       "\n",
       "    .dataframe tbody tr th {\n",
       "        vertical-align: top;\n",
       "    }\n",
       "\n",
       "    .dataframe thead th {\n",
       "        text-align: right;\n",
       "    }\n",
       "</style>\n",
       "<table border=\"1\" class=\"dataframe\">\n",
       "  <thead>\n",
       "    <tr style=\"text-align: right;\">\n",
       "      <th></th>\n",
       "      <th>EMPLOYEE_ID</th>\n",
       "      <th>FIRST_NAME</th>\n",
       "      <th>LAST_NAME</th>\n",
       "      <th>EMAIL</th>\n",
       "      <th>PHONE_NUMBER</th>\n",
       "      <th>HIRE_DATE</th>\n",
       "      <th>JOB_ID</th>\n",
       "      <th>SALARY</th>\n",
       "      <th>COMMISSION_PCT</th>\n",
       "      <th>MANAGER_ID</th>\n",
       "      <th>DEPARTMENT_ID</th>\n",
       "    </tr>\n",
       "  </thead>\n",
       "  <tbody>\n",
       "    <tr>\n",
       "      <th>3</th>\n",
       "      <td>201</td>\n",
       "      <td>Michael</td>\n",
       "      <td>Hartstein</td>\n",
       "      <td>NaN</td>\n",
       "      <td>515.123.5555</td>\n",
       "      <td>17-Feb-04</td>\n",
       "      <td>MK_MAN</td>\n",
       "      <td>13000</td>\n",
       "      <td>-</td>\n",
       "      <td>100</td>\n",
       "      <td>20</td>\n",
       "    </tr>\n",
       "    <tr>\n",
       "      <th>4</th>\n",
       "      <td>202</td>\n",
       "      <td>Pat</td>\n",
       "      <td>Fay</td>\n",
       "      <td>NaN</td>\n",
       "      <td>603.123.6666</td>\n",
       "      <td>17-Aug-05</td>\n",
       "      <td>MK_REP</td>\n",
       "      <td>6000</td>\n",
       "      <td>-</td>\n",
       "      <td>201</td>\n",
       "      <td>20</td>\n",
       "    </tr>\n",
       "    <tr>\n",
       "      <th>5</th>\n",
       "      <td>203</td>\n",
       "      <td>Susan</td>\n",
       "      <td>Mavris</td>\n",
       "      <td>NaN</td>\n",
       "      <td>515.123.7777</td>\n",
       "      <td>07-Jun-02</td>\n",
       "      <td>HR_REP</td>\n",
       "      <td>6500</td>\n",
       "      <td>-</td>\n",
       "      <td>101</td>\n",
       "      <td>40</td>\n",
       "    </tr>\n",
       "    <tr>\n",
       "      <th>6</th>\n",
       "      <td>204</td>\n",
       "      <td>Hermann</td>\n",
       "      <td>Baer</td>\n",
       "      <td>NaN</td>\n",
       "      <td>515.123.8888</td>\n",
       "      <td>07-Jun-02</td>\n",
       "      <td>PR_REP</td>\n",
       "      <td>10000</td>\n",
       "      <td>-</td>\n",
       "      <td>101</td>\n",
       "      <td>70</td>\n",
       "    </tr>\n",
       "    <tr>\n",
       "      <th>7</th>\n",
       "      <td>205</td>\n",
       "      <td>Shelley</td>\n",
       "      <td>Higgins</td>\n",
       "      <td>NaN</td>\n",
       "      <td>515.123.8080</td>\n",
       "      <td>07-Jun-02</td>\n",
       "      <td>AC_MGR</td>\n",
       "      <td>12008</td>\n",
       "      <td>-</td>\n",
       "      <td>101</td>\n",
       "      <td>110</td>\n",
       "    </tr>\n",
       "  </tbody>\n",
       "</table>\n",
       "</div>"
      ],
      "text/plain": [
       "   EMPLOYEE_ID FIRST_NAME  LAST_NAME EMAIL  PHONE_NUMBER  HIRE_DATE  JOB_ID  \\\n",
       "3          201    Michael  Hartstein   NaN  515.123.5555  17-Feb-04  MK_MAN   \n",
       "4          202        Pat        Fay   NaN  603.123.6666  17-Aug-05  MK_REP   \n",
       "5          203      Susan     Mavris   NaN  515.123.7777  07-Jun-02  HR_REP   \n",
       "6          204    Hermann       Baer   NaN  515.123.8888  07-Jun-02  PR_REP   \n",
       "7          205    Shelley    Higgins   NaN  515.123.8080  07-Jun-02  AC_MGR   \n",
       "\n",
       "   SALARY COMMISSION_PCT MANAGER_ID  DEPARTMENT_ID  \n",
       "3   13000             -         100             20  \n",
       "4    6000             -         201             20  \n",
       "5    6500             -         101             40  \n",
       "6   10000             -         101             70  \n",
       "7   12008             -         101            110  "
      ]
     },
     "execution_count": 40,
     "metadata": {},
     "output_type": "execute_result"
    }
   ],
   "source": [
    "# Employee with greater salary than 5000\n",
    "high_paid_employee = employees[employees['SALARY']>=5000]\n",
    "high_paid_employee.head()"
   ]
  },
  {
   "cell_type": "code",
   "execution_count": 43,
   "id": "important-science",
   "metadata": {},
   "outputs": [
    {
     "data": {
      "text/html": [
       "<div>\n",
       "<style scoped>\n",
       "    .dataframe tbody tr th:only-of-type {\n",
       "        vertical-align: middle;\n",
       "    }\n",
       "\n",
       "    .dataframe tbody tr th {\n",
       "        vertical-align: top;\n",
       "    }\n",
       "\n",
       "    .dataframe thead th {\n",
       "        text-align: right;\n",
       "    }\n",
       "</style>\n",
       "<table border=\"1\" class=\"dataframe\">\n",
       "  <thead>\n",
       "    <tr style=\"text-align: right;\">\n",
       "      <th></th>\n",
       "      <th>EMPLOYEE_ID</th>\n",
       "      <th>FIRST_NAME</th>\n",
       "      <th>LAST_NAME</th>\n",
       "      <th>EMAIL</th>\n",
       "      <th>PHONE_NUMBER</th>\n",
       "      <th>HIRE_DATE</th>\n",
       "      <th>JOB_ID</th>\n",
       "      <th>SALARY</th>\n",
       "      <th>COMMISSION_PCT</th>\n",
       "      <th>MANAGER_ID</th>\n",
       "      <th>DEPARTMENT_ID</th>\n",
       "      <th>salary_value_seg</th>\n",
       "    </tr>\n",
       "  </thead>\n",
       "  <tbody>\n",
       "    <tr>\n",
       "      <th>0</th>\n",
       "      <td>198</td>\n",
       "      <td>Donald</td>\n",
       "      <td>OConnell</td>\n",
       "      <td>NaN</td>\n",
       "      <td>650.507.9833</td>\n",
       "      <td>21-Jun-07</td>\n",
       "      <td>SH_CLERK</td>\n",
       "      <td>2600</td>\n",
       "      <td>-</td>\n",
       "      <td>124</td>\n",
       "      <td>50</td>\n",
       "      <td>Low</td>\n",
       "    </tr>\n",
       "    <tr>\n",
       "      <th>1</th>\n",
       "      <td>199</td>\n",
       "      <td>Douglas</td>\n",
       "      <td>Grant</td>\n",
       "      <td>NaN</td>\n",
       "      <td>650.507.9844</td>\n",
       "      <td>13-Jan-08</td>\n",
       "      <td>SH_CLERK</td>\n",
       "      <td>2600</td>\n",
       "      <td>-</td>\n",
       "      <td>124</td>\n",
       "      <td>50</td>\n",
       "      <td>Low</td>\n",
       "    </tr>\n",
       "    <tr>\n",
       "      <th>2</th>\n",
       "      <td>200</td>\n",
       "      <td>Jennifer</td>\n",
       "      <td>Whalen</td>\n",
       "      <td>NaN</td>\n",
       "      <td>515.123.4444</td>\n",
       "      <td>17-Sep-03</td>\n",
       "      <td>AD_ASST</td>\n",
       "      <td>4400</td>\n",
       "      <td>-</td>\n",
       "      <td>101</td>\n",
       "      <td>10</td>\n",
       "      <td>Low</td>\n",
       "    </tr>\n",
       "    <tr>\n",
       "      <th>3</th>\n",
       "      <td>201</td>\n",
       "      <td>Michael</td>\n",
       "      <td>Hartstein</td>\n",
       "      <td>NaN</td>\n",
       "      <td>515.123.5555</td>\n",
       "      <td>17-Feb-04</td>\n",
       "      <td>MK_MAN</td>\n",
       "      <td>13000</td>\n",
       "      <td>-</td>\n",
       "      <td>100</td>\n",
       "      <td>20</td>\n",
       "      <td>High</td>\n",
       "    </tr>\n",
       "    <tr>\n",
       "      <th>4</th>\n",
       "      <td>202</td>\n",
       "      <td>Pat</td>\n",
       "      <td>Fay</td>\n",
       "      <td>NaN</td>\n",
       "      <td>603.123.6666</td>\n",
       "      <td>17-Aug-05</td>\n",
       "      <td>MK_REP</td>\n",
       "      <td>6000</td>\n",
       "      <td>-</td>\n",
       "      <td>201</td>\n",
       "      <td>20</td>\n",
       "      <td>Medium</td>\n",
       "    </tr>\n",
       "  </tbody>\n",
       "</table>\n",
       "</div>"
      ],
      "text/plain": [
       "   EMPLOYEE_ID FIRST_NAME  LAST_NAME EMAIL  PHONE_NUMBER  HIRE_DATE    JOB_ID  \\\n",
       "0          198     Donald   OConnell   NaN  650.507.9833  21-Jun-07  SH_CLERK   \n",
       "1          199    Douglas      Grant   NaN  650.507.9844  13-Jan-08  SH_CLERK   \n",
       "2          200   Jennifer     Whalen   NaN  515.123.4444  17-Sep-03   AD_ASST   \n",
       "3          201    Michael  Hartstein   NaN  515.123.5555  17-Feb-04    MK_MAN   \n",
       "4          202        Pat        Fay   NaN  603.123.6666  17-Aug-05    MK_REP   \n",
       "\n",
       "   SALARY COMMISSION_PCT MANAGER_ID  DEPARTMENT_ID salary_value_seg  \n",
       "0    2600             -         124             50              Low  \n",
       "1    2600             -         124             50              Low  \n",
       "2    4400             -         101             10              Low  \n",
       "3   13000             -         100             20             High  \n",
       "4    6000             -         201             20           Medium  "
      ]
     },
     "execution_count": 43,
     "metadata": {},
     "output_type": "execute_result"
    }
   ],
   "source": [
    "# Create a new salary_value_seg which labeled according to salary values\n",
    "employees['salary_value_seg'] = pd.cut(employees['SALARY'],bins=[0,5000,10000,100000], labels=['Low','Medium','High'])\n",
    "employees.head()"
   ]
  },
  {
   "cell_type": "code",
   "execution_count": 44,
   "id": "emotional-exhibition",
   "metadata": {},
   "outputs": [
    {
     "data": {
      "text/html": [
       "<div>\n",
       "<style scoped>\n",
       "    .dataframe tbody tr th:only-of-type {\n",
       "        vertical-align: middle;\n",
       "    }\n",
       "\n",
       "    .dataframe tbody tr th {\n",
       "        vertical-align: top;\n",
       "    }\n",
       "\n",
       "    .dataframe thead th {\n",
       "        text-align: right;\n",
       "    }\n",
       "</style>\n",
       "<table border=\"1\" class=\"dataframe\">\n",
       "  <thead>\n",
       "    <tr style=\"text-align: right;\">\n",
       "      <th></th>\n",
       "      <th>EMPLOYEE_ID</th>\n",
       "      <th>FIRST_NAME</th>\n",
       "      <th>LAST_NAME</th>\n",
       "      <th>EMAIL</th>\n",
       "      <th>PHONE_NUMBER</th>\n",
       "      <th>HIRE_DATE</th>\n",
       "      <th>JOB_ID</th>\n",
       "      <th>SALARY</th>\n",
       "      <th>COMMISSION_PCT</th>\n",
       "      <th>MANAGER_ID</th>\n",
       "      <th>DEPARTMENT_ID</th>\n",
       "    </tr>\n",
       "    <tr>\n",
       "      <th>salary_value_seg</th>\n",
       "      <th></th>\n",
       "      <th></th>\n",
       "      <th></th>\n",
       "      <th></th>\n",
       "      <th></th>\n",
       "      <th></th>\n",
       "      <th></th>\n",
       "      <th></th>\n",
       "      <th></th>\n",
       "      <th></th>\n",
       "      <th></th>\n",
       "    </tr>\n",
       "  </thead>\n",
       "  <tbody>\n",
       "    <tr>\n",
       "      <th>Low</th>\n",
       "      <td>27</td>\n",
       "      <td>27</td>\n",
       "      <td>27</td>\n",
       "      <td>24</td>\n",
       "      <td>27</td>\n",
       "      <td>27</td>\n",
       "      <td>27</td>\n",
       "      <td>27</td>\n",
       "      <td>27</td>\n",
       "      <td>27</td>\n",
       "      <td>27</td>\n",
       "    </tr>\n",
       "    <tr>\n",
       "      <th>Medium</th>\n",
       "      <td>16</td>\n",
       "      <td>16</td>\n",
       "      <td>16</td>\n",
       "      <td>13</td>\n",
       "      <td>16</td>\n",
       "      <td>16</td>\n",
       "      <td>16</td>\n",
       "      <td>16</td>\n",
       "      <td>16</td>\n",
       "      <td>16</td>\n",
       "      <td>16</td>\n",
       "    </tr>\n",
       "    <tr>\n",
       "      <th>High</th>\n",
       "      <td>7</td>\n",
       "      <td>7</td>\n",
       "      <td>7</td>\n",
       "      <td>5</td>\n",
       "      <td>7</td>\n",
       "      <td>7</td>\n",
       "      <td>7</td>\n",
       "      <td>7</td>\n",
       "      <td>7</td>\n",
       "      <td>7</td>\n",
       "      <td>7</td>\n",
       "    </tr>\n",
       "  </tbody>\n",
       "</table>\n",
       "</div>"
      ],
      "text/plain": [
       "                  EMPLOYEE_ID  FIRST_NAME  LAST_NAME  EMAIL  PHONE_NUMBER  \\\n",
       "salary_value_seg                                                            \n",
       "Low                        27          27         27     24            27   \n",
       "Medium                     16          16         16     13            16   \n",
       "High                        7           7          7      5             7   \n",
       "\n",
       "                  HIRE_DATE  JOB_ID  SALARY  COMMISSION_PCT  MANAGER_ID  \\\n",
       "salary_value_seg                                                          \n",
       "Low                      27      27      27              27          27   \n",
       "Medium                   16      16      16              16          16   \n",
       "High                      7       7       7               7           7   \n",
       "\n",
       "                  DEPARTMENT_ID  \n",
       "salary_value_seg                 \n",
       "Low                          27  \n",
       "Medium                       16  \n",
       "High                          7  "
      ]
     },
     "execution_count": 44,
     "metadata": {},
     "output_type": "execute_result"
    }
   ],
   "source": [
    "employees.groupby('salary_value_seg').count()"
   ]
  },
  {
   "cell_type": "code",
   "execution_count": 72,
   "id": "uniform-harvey",
   "metadata": {},
   "outputs": [
    {
     "data": {
      "text/plain": [
       "datetime.datetime(2021, 2, 2, 18, 7, 18, 698544)"
      ]
     },
     "execution_count": 72,
     "metadata": {},
     "output_type": "execute_result"
    }
   ],
   "source": [
    "#How many days between hiring and today?\n",
    "import datetime\n",
    "x = datetime.datetime.now()\n",
    "x"
   ]
  },
  {
   "cell_type": "code",
   "execution_count": 77,
   "id": "racial-roulette",
   "metadata": {},
   "outputs": [
    {
     "name": "stdout",
     "output_type": "stream",
     "text": [
      "30-Sep-05\n"
     ]
    },
    {
     "data": {
      "text/plain": [
       "datetime.datetime(2005, 9, 30, 0, 0)"
      ]
     },
     "execution_count": 77,
     "metadata": {},
     "output_type": "execute_result"
    }
   ],
   "source": [
    "max_hiring_date = employees.HIRE_DATE.max()\n",
    "print(max_hiring_date)\n",
    "max_hiring_date = datetime.datetime.strptime(max_hiring_date,'%d-%b-%y')\n",
    "max_hiring_date"
   ]
  },
  {
   "cell_type": "code",
   "execution_count": 84,
   "id": "fundamental-kingston",
   "metadata": {},
   "outputs": [
    {
     "data": {
      "text/plain": [
       "15.345298177086304"
      ]
     },
     "execution_count": 84,
     "metadata": {},
     "output_type": "execute_result"
    }
   ],
   "source": [
    "difference = x-max_hiring_date\n",
    "difference_in_years = (difference.days+difference.seconds/86400)/365.2425\n",
    "difference_in_years"
   ]
  },
  {
   "cell_type": "code",
   "execution_count": 92,
   "id": "atlantic-biotechnology",
   "metadata": {},
   "outputs": [
    {
     "data": {
      "text/plain": [
       "15"
      ]
     },
     "execution_count": 92,
     "metadata": {},
     "output_type": "execute_result"
    }
   ],
   "source": [
    "from dateutil.relativedelta import relativedelta\n",
    "difference_in_years = relativedelta(x,max_hiring_date).years\n",
    "difference_in_years"
   ]
  },
  {
   "cell_type": "code",
   "execution_count": 94,
   "id": "hollow-documentary",
   "metadata": {},
   "outputs": [
    {
     "name": "stdout",
     "output_type": "stream",
     "text": [
      "<class 'pandas.core.frame.DataFrame'>\n",
      "RangeIndex: 50 entries, 0 to 49\n",
      "Data columns (total 12 columns):\n",
      " #   Column            Non-Null Count  Dtype   \n",
      "---  ------            --------------  -----   \n",
      " 0   EMPLOYEE_ID       50 non-null     int64   \n",
      " 1   FIRST_NAME        50 non-null     object  \n",
      " 2   LAST_NAME         50 non-null     object  \n",
      " 3   EMAIL             42 non-null     object  \n",
      " 4   PHONE_NUMBER      50 non-null     object  \n",
      " 5   HIRE_DATE         50 non-null     object  \n",
      " 6   JOB_ID            50 non-null     object  \n",
      " 7   SALARY            50 non-null     int64   \n",
      " 8   COMMISSION_PCT    50 non-null     object  \n",
      " 9   MANAGER_ID        50 non-null     object  \n",
      " 10  DEPARTMENT_ID     50 non-null     int64   \n",
      " 11  salary_value_seg  50 non-null     category\n",
      "dtypes: category(1), int64(3), object(8)\n",
      "memory usage: 4.6+ KB\n"
     ]
    }
   ],
   "source": [
    "# number of employees and total salary as per department\n",
    "employees.info()"
   ]
  },
  {
   "cell_type": "code",
   "execution_count": 97,
   "id": "critical-advocacy",
   "metadata": {},
   "outputs": [
    {
     "data": {
      "text/plain": [
       "array([ 50,  10,  20,  40,  70, 110,  90,  60, 100,  30], dtype=int64)"
      ]
     },
     "execution_count": 97,
     "metadata": {},
     "output_type": "execute_result"
    }
   ],
   "source": [
    "employees.DEPARTMENT_ID.unique()"
   ]
  },
  {
   "cell_type": "code",
   "execution_count": 99,
   "id": "laden-couple",
   "metadata": {},
   "outputs": [
    {
     "data": {
      "text/html": [
       "<div>\n",
       "<style scoped>\n",
       "    .dataframe tbody tr th:only-of-type {\n",
       "        vertical-align: middle;\n",
       "    }\n",
       "\n",
       "    .dataframe tbody tr th {\n",
       "        vertical-align: top;\n",
       "    }\n",
       "\n",
       "    .dataframe thead th {\n",
       "        text-align: right;\n",
       "    }\n",
       "</style>\n",
       "<table border=\"1\" class=\"dataframe\">\n",
       "  <thead>\n",
       "    <tr style=\"text-align: right;\">\n",
       "      <th></th>\n",
       "      <th>EMPLOYEE_ID</th>\n",
       "      <th>SALARY</th>\n",
       "    </tr>\n",
       "    <tr>\n",
       "      <th>DEPARTMENT_ID</th>\n",
       "      <th></th>\n",
       "      <th></th>\n",
       "    </tr>\n",
       "  </thead>\n",
       "  <tbody>\n",
       "    <tr>\n",
       "      <th>10</th>\n",
       "      <td>1</td>\n",
       "      <td>4400</td>\n",
       "    </tr>\n",
       "    <tr>\n",
       "      <th>20</th>\n",
       "      <td>2</td>\n",
       "      <td>19000</td>\n",
       "    </tr>\n",
       "    <tr>\n",
       "      <th>30</th>\n",
       "      <td>6</td>\n",
       "      <td>24900</td>\n",
       "    </tr>\n",
       "    <tr>\n",
       "      <th>40</th>\n",
       "      <td>1</td>\n",
       "      <td>6500</td>\n",
       "    </tr>\n",
       "    <tr>\n",
       "      <th>50</th>\n",
       "      <td>23</td>\n",
       "      <td>85600</td>\n",
       "    </tr>\n",
       "    <tr>\n",
       "      <th>60</th>\n",
       "      <td>5</td>\n",
       "      <td>28800</td>\n",
       "    </tr>\n",
       "    <tr>\n",
       "      <th>70</th>\n",
       "      <td>1</td>\n",
       "      <td>10000</td>\n",
       "    </tr>\n",
       "    <tr>\n",
       "      <th>90</th>\n",
       "      <td>3</td>\n",
       "      <td>58000</td>\n",
       "    </tr>\n",
       "    <tr>\n",
       "      <th>100</th>\n",
       "      <td>6</td>\n",
       "      <td>51608</td>\n",
       "    </tr>\n",
       "    <tr>\n",
       "      <th>110</th>\n",
       "      <td>2</td>\n",
       "      <td>20308</td>\n",
       "    </tr>\n",
       "  </tbody>\n",
       "</table>\n",
       "</div>"
      ],
      "text/plain": [
       "               EMPLOYEE_ID  SALARY\n",
       "DEPARTMENT_ID                     \n",
       "10                       1    4400\n",
       "20                       2   19000\n",
       "30                       6   24900\n",
       "40                       1    6500\n",
       "50                      23   85600\n",
       "60                       5   28800\n",
       "70                       1   10000\n",
       "90                       3   58000\n",
       "100                      6   51608\n",
       "110                      2   20308"
      ]
     },
     "execution_count": 99,
     "metadata": {},
     "output_type": "execute_result"
    }
   ],
   "source": [
    "employees[['DEPARTMENT_ID','EMPLOYEE_ID','SALARY']].groupby('DEPARTMENT_ID').aggregate({'EMPLOYEE_ID':'count','SALARY':sum})"
   ]
  },
  {
   "cell_type": "code",
   "execution_count": null,
   "id": "clean-simon",
   "metadata": {},
   "outputs": [],
   "source": [
    "#importnt\n",
    "# per_sales=Customers[['Last_region','Last_state','Last_city','Customer_Value']].groupby(['Last_region','Last_state','Last_city']).sum()\n",
    "# per_sales.groupby(level=0).apply(lambda x: x/x.sum() * 100).head(10)"
   ]
  }
 ],
 "metadata": {
  "kernelspec": {
   "display_name": "Python 3",
   "language": "python",
   "name": "python3"
  },
  "language_info": {
   "codemirror_mode": {
    "name": "ipython",
    "version": 3
   },
   "file_extension": ".py",
   "mimetype": "text/x-python",
   "name": "python",
   "nbconvert_exporter": "python",
   "pygments_lexer": "ipython3",
   "version": "3.8.5"
  }
 },
 "nbformat": 4,
 "nbformat_minor": 5
}
